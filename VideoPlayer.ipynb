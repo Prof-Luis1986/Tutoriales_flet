{
  "nbformat": 4,
  "nbformat_minor": 0,
  "metadata": {
    "colab": {
      "provenance": [],
      "authorship_tag": "ABX9TyOIheZYsrMyIF6G9iEnzRSv",
      "include_colab_link": true
    },
    "kernelspec": {
      "name": "python3",
      "display_name": "Python 3"
    },
    "language_info": {
      "name": "python"
    }
  },
  "cells": [
    {
      "cell_type": "markdown",
      "metadata": {
        "id": "view-in-github",
        "colab_type": "text"
      },
      "source": [
        "<a href=\"https://colab.research.google.com/github/Prof-Luis1986/Tutoriales_flet/blob/main/VideoPlayer.ipynb\" target=\"_parent\"><img src=\"https://colab.research.google.com/assets/colab-badge.svg\" alt=\"Open In Colab\"/></a>"
      ]
    },
    {
      "cell_type": "markdown",
      "source": [
        "# Práctica: Reproductor de video con Flet + flet-video\n",
        "1. Requisitos previos\n",
        "\n",
        "* Python 3.9+ instalado.\n",
        "\n",
        "* VS Code (o editor similar).\n",
        "\n",
        "* Conexión a internet para descargar dependencias.\n",
        "\n",
        "* Linux únicamente: instalar libmpv antes de usar video."
      ],
      "metadata": {
        "id": "4Y8iJYCyn-_o"
      }
    },
    {
      "cell_type": "markdown",
      "source": [
        "2. Crear carpeta y entorno virtual\n",
        "\n",
        "macOS / Linux"
      ],
      "metadata": {
        "id": "gT84bQMSoSx3"
      }
    },
    {
      "cell_type": "code",
      "execution_count": null,
      "metadata": {
        "id": "mLtKIwnDnzOJ"
      },
      "outputs": [],
      "source": [
        "mkdir videoplayer && cd videoplayer\n",
        "python3 -m venv .venv\n",
        "source .venv/bin/activate\n"
      ]
    },
    {
      "cell_type": "markdown",
      "source": [
        "Windows (PowerShell)"
      ],
      "metadata": {
        "id": "sMSP5VSmobvV"
      }
    },
    {
      "cell_type": "code",
      "source": [
        "md videoplayer; cd videoplayer\n",
        "py -m venv .venv\n",
        ".\\.venv\\Scripts\\Activate\n"
      ],
      "metadata": {
        "id": "bWYfA4yco7K-"
      },
      "execution_count": null,
      "outputs": []
    },
    {
      "cell_type": "markdown",
      "source": [
        "3. Instalar dependencias"
      ],
      "metadata": {
        "id": "Mr277F7Yo_-B"
      }
    },
    {
      "cell_type": "code",
      "source": [
        "pip install --upgrade pip\n",
        "pip install flet\n",
        "pip install flet-video"
      ],
      "metadata": {
        "id": "t9zpMC1TpB8E"
      },
      "execution_count": null,
      "outputs": []
    },
    {
      "cell_type": "markdown",
      "source": [
        "# Elaboremos el programa\n",
        "\n",
        "1. Imports: traemos las librerías"
      ],
      "metadata": {
        "id": "o2jh5NjLqUTn"
      }
    },
    {
      "cell_type": "code",
      "source": [
        "import flet as ft\n",
        "import flet_video as fv"
      ],
      "metadata": {
        "id": "nOmXwq5uqjJ7"
      },
      "execution_count": null,
      "outputs": []
    },
    {
      "cell_type": "markdown",
      "source": [
        "* flet (ft) es el framework de la interfaz.\n",
        "\n",
        "* flet_video (fv) aporta el Video, VideoMedia, y PlaylistMode."
      ],
      "metadata": {
        "id": "JRr4_7R0qoz7"
      }
    },
    {
      "cell_type": "markdown",
      "source": [
        "2. Punto de entrada de la app"
      ],
      "metadata": {
        "id": "5cwxVPfrqxjk"
      }
    },
    {
      "cell_type": "code",
      "source": [
        "def main(page: ft.Page):\n",
        "    ...\n",
        "ft.app(target=main)"
      ],
      "metadata": {
        "id": "0Vfdx_L9q4ot"
      },
      "execution_count": null,
      "outputs": []
    },
    {
      "cell_type": "markdown",
      "source": [
        "* main(page) es la función que Flet llama para construir la pantalla.\n",
        "\n",
        "* ft.app(target=main) arranca la aplicación y le dice a Flet que use main."
      ],
      "metadata": {
        "id": "Tl9UGC0fq9HN"
      }
    },
    {
      "cell_type": "markdown",
      "source": [
        "3. Ajustes de la ventana y del layout (dentro de main)"
      ],
      "metadata": {
        "id": "AyVCrH-DrF-Z"
      }
    },
    {
      "cell_type": "code",
      "source": [
        "page.title = \"VideoPlayer\"\n",
        "page.theme_mode = ft.ThemeMode.LIGHT\n",
        "page.window.always_on_top = True\n",
        "page.spacing = 10\n",
        "page.horizontal_alignment = ft.CrossAxisAlignment.CENTER\n",
        "page.padding = 10\n"
      ],
      "metadata": {
        "id": "hqd4Kp-nrJWS"
      },
      "execution_count": null,
      "outputs": []
    },
    {
      "cell_type": "markdown",
      "source": [
        "* Título de la ventana, tema claro y ventana “siempre al frente”.\n",
        "\n",
        "* Espaciado general y alineación horizontal al centro.\n",
        "\n",
        "* padding=10 reduce bordes para que todo se vea compacto."
      ],
      "metadata": {
        "id": "KNYA08TArT9f"
      }
    },
    {
      "cell_type": "markdown",
      "source": [
        "4. Datos de los videos (fuente de verdad)"
      ],
      "metadata": {
        "id": "20n0ZggErZvT"
      }
    },
    {
      "cell_type": "code",
      "source": [
        "video_data = [\n",
        "    {\"title\": \"Video 1: Naturaleza\", \"url\": \"https://...mp4\"},\n",
        "    ...\n",
        "]"
      ],
      "metadata": {
        "id": "Yr_HouAjree9"
      },
      "execution_count": null,
      "outputs": []
    },
    {
      "cell_type": "markdown",
      "source": [
        "* Es la lista con cada video: título + URL en mp4.\n",
        "\n",
        "* Si algún día quieren cambiar videos, este es el lugar"
      ],
      "metadata": {
        "id": "bVUgOVn4roAp"
      }
    },
    {
      "cell_type": "markdown",
      "source": [
        "5. Convertimos los datos en medios de reproducción"
      ],
      "metadata": {
        "id": "LtxEyS58rvb6"
      }
    },
    {
      "cell_type": "code",
      "source": [
        "playlist = [fv.VideoMedia(item[\"url\"]) for item in video_data]\n"
      ],
      "metadata": {
        "id": "TsqR6MSByNVa"
      },
      "execution_count": null,
      "outputs": []
    },
    {
      "cell_type": "markdown",
      "source": [
        "* Crea una playlist con objetos VideoMedia a partir de cada url.\n",
        "\n",
        "* Esta lista es la que entiende el componente Video."
      ],
      "metadata": {
        "id": "itnaYjxYyQis"
      }
    },
    {
      "cell_type": "markdown",
      "source": [
        "6. Estado: índice actual y título visible"
      ],
      "metadata": {
        "id": "5dvBQ1CtyUlE"
      }
    },
    {
      "cell_type": "code",
      "source": [
        "current_index = ft.Ref[int]()\n",
        "current_index.current = 0\n",
        "\n",
        "current_title = ft.Text(video_data[0][\"title\"], style=\"titleLarge\", text_align=ft.TextAlign.CENTER)\n"
      ],
      "metadata": {
        "id": "Oeq5A1eUyXKt"
      },
      "execution_count": null,
      "outputs": []
    },
    {
      "cell_type": "markdown",
      "source": [
        "7. SnackBar para mensajes rápidos"
      ],
      "metadata": {
        "id": "7-4OWUIjye2t"
      }
    },
    {
      "cell_type": "code",
      "source": [
        "snackbar = ft.SnackBar(content=ft.Text(\"\"))"
      ],
      "metadata": {
        "id": "puQQQjaNynh8"
      },
      "execution_count": null,
      "outputs": []
    },
    {
      "cell_type": "markdown",
      "source": [
        "* El SnackBar se usa para avisos temporales: volumen, velocidad, etc.\n",
        "\n",
        "* Se abre/cierra cuando lo necesitemos (más abajo lo verás en los sliders)."
      ],
      "metadata": {
        "id": "HUKVrW6Pyqsl"
      }
    },
    {
      "cell_type": "markdown",
      "source": [
        "8. Creamos el reproductor de video"
      ],
      "metadata": {
        "id": "OOJMPZWUjdbD"
      }
    },
    {
      "cell_type": "code",
      "source": [
        "video = fv.Video(\n",
        "    expand=True,\n",
        "    playlist=playlist,\n",
        "    playlist_mode=fv.PlaylistMode.LOOP,\n",
        "    aspect_ratio=16 / 9,\n",
        "    volume=100,\n",
        "    autoplay=False,\n",
        "    muted=False,\n",
        "    fill_color=ft.Colors.BLUE_400,\n",
        "    filter_quality=ft.FilterQuality.HIGH,\n",
        "    on_loaded=lambda e: print(\"Video cargado correctamente.\"),\n",
        ")\n"
      ],
      "metadata": {
        "id": "OcWvv9YGjhbC"
      },
      "execution_count": null,
      "outputs": []
    },
    {
      "cell_type": "markdown",
      "source": [
        "Props clave:\n",
        "\n",
        "* playlist=playlist: la lista del Paso 5.\n",
        "\n",
        "* playlist_mode=...LOOP: al terminar, vuelve al primero (repite la lista).\n",
        "\n",
        "* aspect_ratio=16/9: proporción estándar del reproductor.\n",
        "\n",
        "* volume=100, autoplay=False, muted=False: estado inicial.\n",
        "\n",
        "* on_loaded=...: cuando el video está listo, imprime un mensaje en la consola.\n",
        "\n",
        "expand=True hace que el video use el espacio disponible."
      ],
      "metadata": {
        "id": "khrXHDR2jmOX"
      }
    },
    {
      "cell_type": "markdown",
      "source": [
        "9. Handlers básicos de reproducción"
      ],
      "metadata": {
        "id": "QZt7_5Y6jw5t"
      }
    },
    {
      "cell_type": "code",
      "source": [
        "def handle_play(e):\n",
        "    video.play()\n",
        "\n",
        "def handle_pause(e):\n",
        "    video.pause()\n"
      ],
      "metadata": {
        "id": "Na1DBQBpj4cR"
      },
      "execution_count": null,
      "outputs": []
    },
    {
      "cell_type": "markdown",
      "source": [
        "* Dos funciones muy directas: Play y Pause.\n",
        "\n",
        "* Se conectarán a botones para que el usuario controle el video."
      ],
      "metadata": {
        "id": "cN8VoyUZj78i"
      }
    },
    {
      "cell_type": "markdown",
      "source": [
        "10. Handlers para navegar la playlist"
      ],
      "metadata": {
        "id": "-LYQTQN1kELW"
      }
    },
    {
      "cell_type": "code",
      "source": [
        "def handle_next(e):\n",
        "    next_index = (current_index.current + 1) % len(video_data)\n",
        "    current_index.current = next_index\n",
        "    video.next()\n",
        "    current_title.value = video_data[next_index][\"title\"]\n",
        "    page.update()\n",
        "\n",
        "def handle_previous(e):\n",
        "    prev_index = (current_index.current - 1) % len(video_data)\n",
        "    current_index.current = prev_index\n",
        "    video.previous()\n",
        "    current_title.value = video_data[prev_index][\"title\"]\n",
        "    page.update()\n"
      ],
      "metadata": {
        "id": "qwx2TNNykGkf"
      },
      "execution_count": null,
      "outputs": []
    },
    {
      "cell_type": "markdown",
      "source": [
        "* Calculan el siguiente o anterior índice usando módulo (%) para ciclar.\n",
        "\n",
        "* Llaman video.next() / video.previous() para cambiar la pista.\n",
        "\n",
        "* Actualizan el título visible y hacen page.update() para refrescar la pantalla."
      ],
      "metadata": {
        "id": "DklTE_L1kKZD"
      }
    },
    {
      "cell_type": "markdown",
      "source": [
        "11. Handler del volumen (slider)"
      ],
      "metadata": {
        "id": "Rg2zR9lGkXVM"
      }
    },
    {
      "cell_type": "code",
      "source": [
        "def handle_volume_change(e):\n",
        "    video.volume = int(e.control.value)\n",
        "    video.pause()\n",
        "    video.play()\n",
        "    snackbar.content.value = f\"🔊 Volumen: {video.volume}%\"\n",
        "    page.snack_bar = snackbar\n",
        "    page.snack_bar.open = True\n",
        "    page.update()\n"
      ],
      "metadata": {
        "id": "8ZoGHZuqkim1"
      },
      "execution_count": null,
      "outputs": []
    },
    {
      "cell_type": "markdown",
      "source": [
        "* Conviertes el valor del slider a entero y lo asignas a video.volume.\n",
        "\n",
        "* Pausa y reproduce para aplicar el cambio de forma consistente.\n",
        "\n",
        "* Muestra un SnackBar con el porcentaje actual y actualiza la página."
      ],
      "metadata": {
        "id": "QLdqnViYkqV7"
      }
    },
    {
      "cell_type": "markdown",
      "source": [
        "12. Handler de la velocidad de reproducción (slider)"
      ],
      "metadata": {
        "id": "nb8QjbRCkx--"
      }
    },
    {
      "cell_type": "code",
      "source": [
        "def handle_playback_rate_change(e):\n",
        "    video.playback_rate = float(e.control.value)\n",
        "    video.pause()\n",
        "    video.play()\n",
        "    snackbar.content.value = f\"⏩ Velocidad: {video.playback_rate}x\"\n",
        "    page.snack_bar = snackbar\n",
        "    page.snack_bar.open = True\n",
        "    page.update()\n"
      ],
      "metadata": {
        "id": "nCbblL9ek9Jj"
      },
      "execution_count": null,
      "outputs": []
    },
    {
      "cell_type": "markdown",
      "source": [
        "* Convierte el valor a float y lo asigna a video.playback_rate (0.5x a 2x).\n",
        "\n",
        "* Igual que el volumen: pausa/reproduce, muestra SnackBar y actualiza."
      ],
      "metadata": {
        "id": "Z-SzaAHllBS9"
      }
    },
    {
      "cell_type": "markdown",
      "source": [
        "13. Función utilitaria para crear botones redondeados"
      ],
      "metadata": {
        "id": "l-7Z60sTlFkG"
      }
    },
    {
      "cell_type": "code",
      "source": [
        "def rounded_button(text, handler):\n",
        "    return ft.ElevatedButton(\n",
        "        text,\n",
        "        on_click=handler,\n",
        "        style=ft.ButtonStyle(\n",
        "            shape=ft.RoundedRectangleBorder(radius=20),\n",
        "            padding=20,\n",
        "        )\n",
        "    )\n"
      ],
      "metadata": {
        "id": "V5QeF3w5lKR7"
      },
      "execution_count": null,
      "outputs": []
    },
    {
      "cell_type": "markdown",
      "source": [
        "* Evita repetir estilos en cada botón.\n",
        "\n",
        "* Le pasas el texto y el handler; regresa un botón ya estilizado."
      ],
      "metadata": {
        "id": "wv5lmFURlN6g"
      }
    },
    {
      "cell_type": "markdown",
      "source": [
        "14. Fila de controles (los 4 botones)"
      ],
      "metadata": {
        "id": "LhDF-IOylVwT"
      }
    },
    {
      "cell_type": "code",
      "source": [
        "controls = ft.Row(\n",
        "    wrap=True,\n",
        "    alignment=ft.MainAxisAlignment.CENTER,\n",
        "    spacing=10,\n",
        "    controls=[\n",
        "        rounded_button(\"Play\", handle_play),\n",
        "        rounded_button(\"Pause\", handle_pause),\n",
        "        rounded_button(\"Previous\", handle_previous),\n",
        "        rounded_button(\"Next\", handle_next),\n",
        "    ]\n",
        ")\n"
      ],
      "metadata": {
        "id": "an0LohuXlZuv"
      },
      "execution_count": null,
      "outputs": []
    },
    {
      "cell_type": "markdown",
      "source": [
        "* Crea una fila con Play, Pause, Previous y Next.\n",
        "\n",
        "* wrap=True permite que salten de línea si la pantalla es pequeña.\n",
        "\n",
        "* alignment=CENTER los centra horizontalmente."
      ],
      "metadata": {
        "id": "pUWUQBANldES"
      }
    },
    {
      "cell_type": "markdown",
      "source": [
        "15. Sliders: volumen y velocidad"
      ],
      "metadata": {
        "id": "3GqWJc5sljJ2"
      }
    },
    {
      "cell_type": "code",
      "source": [
        "sliders = ft.Column([\n",
        "    ft.Slider(\n",
        "        min=0, value=100, max=100, divisions=10, width=400,\n",
        "        label=\"Volumen = {value}%\",\n",
        "        on_change=handle_volume_change\n",
        "    ),\n",
        "    ft.Slider(\n",
        "        min=0.5, value=1, max=2, divisions=6, width=400,\n",
        "        label=\"Velocidad = {value}x\",\n",
        "        on_change=handle_playback_rate_change\n",
        "    )\n",
        "])\n"
      ],
      "metadata": {
        "id": "WChW_sEvlo9e"
      },
      "execution_count": null,
      "outputs": []
    },
    {
      "cell_type": "markdown",
      "source": [
        "Dos sliders apilados en una columna:\n",
        "\n",
        "* Volumen (0–100) con división en pasos de 10.\n",
        "\n",
        "* Velocidad (0.5x–2x) con 6 divisiones.\n",
        "\n",
        "Cada slider llama a su handler al cambiar."
      ],
      "metadata": {
        "id": "EhnxTQLIlsEN"
      }
    },
    {
      "cell_type": "markdown",
      "source": [
        "16. Composición visual final y fondo degradado"
      ],
      "metadata": {
        "id": "H6UExQ2nl6U7"
      }
    },
    {
      "cell_type": "code",
      "source": [
        "page.add(\n",
        "    ft.Container(\n",
        "        expand=True,\n",
        "        padding=0,\n",
        "        margin=0,\n",
        "        gradient=ft.LinearGradient(\n",
        "            begin=ft.alignment.top_center,\n",
        "            end=ft.alignment.bottom_center,\n",
        "            colors=[ft.Colors.LIGHT_BLUE_100, ft.Colors.BLUE_700],\n",
        "        ),\n",
        "        content=ft.Column(\n",
        "            alignment=ft.MainAxisAlignment.CENTER,\n",
        "            horizontal_alignment=ft.CrossAxisAlignment.CENTER,\n",
        "            spacing=25,\n",
        "            controls=[\n",
        "                current_title,\n",
        "                video,\n",
        "                controls,\n",
        "                sliders\n",
        "            ]\n",
        "        )\n",
        "    )\n",
        ")\n"
      ],
      "metadata": {
        "id": "laUE2iu6l81F"
      },
      "execution_count": null,
      "outputs": []
    },
    {
      "cell_type": "markdown",
      "source": [
        "* Se agrega a la página un Container que ocupa todo (expand=True) y tiene un fondo degradado vertical.\n",
        "\n",
        "* Dentro, una Column centrada que acomoda:\n",
        "\n",
        "1. el título actual,\n",
        "\n",
        "2. el reproductor,\n",
        "\n",
        "3. los botones,\n",
        "\n",
        "4. los sliders."
      ],
      "metadata": {
        "id": "dSBgq2ndl_4e"
      }
    },
    {
      "cell_type": "markdown",
      "source": [
        "17. Arranque (ya visto, pero clave)"
      ],
      "metadata": {
        "id": "VlaHTTV8mQPB"
      }
    },
    {
      "cell_type": "code",
      "source": [
        "ft.app(target=main)\n"
      ],
      "metadata": {
        "id": "-pGqVlW3mSYx"
      },
      "execution_count": null,
      "outputs": []
    },
    {
      "cell_type": "markdown",
      "source": [
        "* Llama a main y lanza la aplicación.\n",
        "\n",
        "* Para probar, ejecuten el archivo."
      ],
      "metadata": {
        "id": "ly_leE9xmX1w"
      }
    },
    {
      "cell_type": "markdown",
      "source": [
        "18. ¿Qué deben observar al ejecutar?\n",
        "\n",
        "* Se abre una ventana “VideoPlayer”.\n",
        "\n",
        "* El primer video está listo; al Play, comienza la reproducción.\n",
        "\n",
        "* Next/Previous cambian de video y actualizan el título.\n",
        "\n",
        "* Al mover Volumen o Velocidad, aparece un SnackBar con el valor.\n",
        "\n",
        "* Al terminar el último video, la lista vuelve a empezar (modo LOOP)."
      ],
      "metadata": {
        "id": "OlObdgYXmiiH"
      }
    },
    {
      "cell_type": "markdown",
      "source": [
        "19. Código completo"
      ],
      "metadata": {
        "id": "QfufTUxsm3gk"
      }
    },
    {
      "cell_type": "code",
      "source": [
        "import flet as ft\n",
        "import flet_video as fv\n",
        "\n",
        "\n",
        "def main(page: ft.Page):\n",
        "    page.title = \"VideoPlayer\"\n",
        "    page.theme_mode = ft.ThemeMode.LIGHT\n",
        "    page.window.always_on_top = True\n",
        "    page.spacing = 10\n",
        "    page.horizontal_alignment = ft.CrossAxisAlignment.CENTER\n",
        "    page.padding =10  # Elimina bordes blancos\n",
        "\n",
        "    video_data = [\n",
        "        {\"title\": \"Video 1: Naturaleza\", \"url\": \"https://user-images.githubusercontent.com/28951144/229373720-14d69157-1a56-4a78-a2f4-d7a134d7c3e9.mp4\"},\n",
        "        {\"title\": \"Video 2: Ciudad\", \"url\": \"https://user-images.githubusercontent.com/28951144/229373718-86ce5e1d-d195-45d5-baa6-ef94041d0b90.mp4\"},\n",
        "        {\"title\": \"Video 3: Espacio\", \"url\": \"https://user-images.githubusercontent.com/28951144/229373716-76da0a4e-225a-44e4-9ee7-3e9006dbc3e3.mp4\"},\n",
        "        {\"title\": \"Video 4: Animación\", \"url\": \"https://user-images.githubusercontent.com/28951144/229373695-22f88f13-d18f-4288-9bf1-c3e078d83722.mp4\"},\n",
        "        {\"title\": \"Video 5: Música\", \"url\": \"https://user-images.githubusercontent.com/28951144/229373709-603a7a89-2105-4e1b-a5a5-a6c3567c9a59.mp4\"},\n",
        "    ]\n",
        "\n",
        "    playlist = [fv.VideoMedia(item[\"url\"]) for item in video_data]\n",
        "\n",
        "    current_index = ft.Ref[int]()\n",
        "    current_index.current = 0\n",
        "\n",
        "    current_title = ft.Text(video_data[0][\"title\"], style=\"titleLarge\", text_align=ft.TextAlign.CENTER)\n",
        "\n",
        "    snackbar = ft.SnackBar(content=ft.Text(\"\"))\n",
        "\n",
        "    video = fv.Video(\n",
        "        expand=True,\n",
        "        playlist=playlist,\n",
        "        playlist_mode=fv.PlaylistMode.LOOP,\n",
        "        aspect_ratio=16 / 9,\n",
        "        volume=100,\n",
        "        autoplay=False,\n",
        "        muted=False,\n",
        "        fill_color=ft.Colors.BLUE_400,\n",
        "        filter_quality=ft.FilterQuality.HIGH,\n",
        "        on_loaded=lambda e: print(\"Video cargado correctamente.\"),\n",
        "    )\n",
        "\n",
        "    def handle_play(e):\n",
        "        video.play()\n",
        "\n",
        "    def handle_pause(e):\n",
        "        video.pause()\n",
        "\n",
        "    def handle_next(e):\n",
        "        next_index = (current_index.current + 1) % len(video_data)\n",
        "        current_index.current = next_index\n",
        "        video.next()\n",
        "        current_title.value = video_data[next_index][\"title\"]\n",
        "        page.update()\n",
        "\n",
        "    def handle_previous(e):\n",
        "        prev_index = (current_index.current - 1) % len(video_data)\n",
        "        current_index.current = prev_index\n",
        "        video.previous()\n",
        "        current_title.value = video_data[prev_index][\"title\"]\n",
        "        page.update()\n",
        "\n",
        "    def handle_volume_change(e):\n",
        "        video.volume = int(e.control.value)\n",
        "        video.pause()\n",
        "        video.play()\n",
        "        snackbar.content.value = f\"🔊 Volumen: {video.volume}%\"\n",
        "        page.snack_bar = snackbar\n",
        "        page.snack_bar.open = True\n",
        "        page.update()\n",
        "\n",
        "    def handle_playback_rate_change(e):\n",
        "        video.playback_rate = float(e.control.value)\n",
        "        video.pause()\n",
        "        video.play()\n",
        "        snackbar.content.value = f\"⏩ Velocidad: {video.playback_rate}x\"\n",
        "        page.snack_bar = snackbar\n",
        "        page.snack_bar.open = True\n",
        "        page.update()\n",
        "\n",
        "    # UI: controles redondeados\n",
        "    def rounded_button(text, handler):\n",
        "        return ft.ElevatedButton(\n",
        "            text,\n",
        "            on_click=handler,\n",
        "            style=ft.ButtonStyle(\n",
        "                shape=ft.RoundedRectangleBorder(radius=20),\n",
        "                padding=20,\n",
        "            )\n",
        "        )\n",
        "\n",
        "    controls = ft.Row(\n",
        "        wrap=True,\n",
        "        alignment=ft.MainAxisAlignment.CENTER,\n",
        "        spacing=10,\n",
        "        controls=[\n",
        "            rounded_button(\"Play\", handle_play),\n",
        "            rounded_button(\"Pause\", handle_pause),\n",
        "            rounded_button(\"Previous\", handle_previous),\n",
        "            rounded_button(\"Next\", handle_next),\n",
        "        ]\n",
        "    )\n",
        "\n",
        "    sliders = ft.Column([\n",
        "        ft.Slider(\n",
        "            min=0,\n",
        "            value=100,\n",
        "            max=100,\n",
        "            divisions=10,\n",
        "            width=400,\n",
        "            label=\"Volumen = {value}%\",\n",
        "            on_change=handle_volume_change\n",
        "        ),\n",
        "        ft.Slider(\n",
        "            min=0.5,\n",
        "            value=1,\n",
        "            max=2,\n",
        "            divisions=6,\n",
        "            width=400,\n",
        "            label=\"Velocidad = {value}x\",\n",
        "            on_change=handle_playback_rate_change\n",
        "        )\n",
        "    ])\n",
        "\n",
        "    page.add(\n",
        "        ft.Container(\n",
        "            expand=True,\n",
        "            padding=0,\n",
        "            margin=0,\n",
        "            gradient=ft.LinearGradient(\n",
        "                begin=ft.alignment.top_center,\n",
        "                end=ft.alignment.bottom_center,\n",
        "                colors=[ft.Colors.LIGHT_BLUE_100, ft.Colors.BLUE_700],\n",
        "            ),\n",
        "            content=ft.Column(\n",
        "                alignment=ft.MainAxisAlignment.CENTER,\n",
        "                horizontal_alignment=ft.CrossAxisAlignment.CENTER,\n",
        "                spacing=25,\n",
        "                controls=[\n",
        "                    current_title,\n",
        "                    video,\n",
        "                    controls,\n",
        "                    sliders\n",
        "                ]\n",
        "            )\n",
        "        )\n",
        "    )\n",
        "\n",
        "\n",
        "ft.app(target=main)\n"
      ],
      "metadata": {
        "id": "NydYJYOtnBI9"
      },
      "execution_count": null,
      "outputs": []
    },
    {
      "cell_type": "markdown",
      "source": [
        "#20 Responde en tu google sites.\n",
        "\n",
        "1. ¿Para qué sirven las importaciones flet y flet_video en este proyecto?\n",
        "\n",
        "2. ¿Qué papel cumple la función main(page: ft.Page) y cómo se inicia la app?\n",
        "\n",
        "3. ¿Qué efecto tienen page.theme_mode, page.window.always_on_top y page.padding en la ventana?\n",
        "\n",
        "4. ¿Qué estructura tiene cada elemento de video_data y para qué se usa esa lista?\n",
        "\n",
        "5. ¿Qué hace la comprensión de listas que construye playlist = [fv.VideoMedia(item[\"url\"]) for item in video_data]?\n",
        "\n",
        "6. ¿Para qué se utiliza ft.Ref[int]() en current_index y por qué no basta con una variable normal?\n",
        "\n",
        "7. ¿Qué muestra current_title y en qué momentos del código se actualiza su valor?\n",
        "\n",
        "8. ¿Qué parámetros de fv.Video controlan el comportamiento del reproductor (como playlist, playlist_mode, aspect_ratio, volume, autoplay, muted)?\n",
        "\n",
        "9. ¿Qué función cumple el callback on_loaded del reproductor?\n",
        "\n",
        "10. ¿Cómo calculan handle_next y handle_previous el índice siguiente/anterior y por qué usan el operador %?\n",
        "\n",
        "11. ¿Por qué en los handlers de volumen y velocidad se hace video.pause() seguido de video.play()?\n",
        "\n",
        "12. ¿Qué información muestra el SnackBar y cómo se abre desde el código?\n",
        "\n",
        "13. ¿Qué ventaja aporta la función rounded_button al crear los cuatro botones de control?\n",
        "\n",
        "14. ¿Qué rol tienen los atributos de los Slider (min, max, divisions, label, on_change) y cómo se vinculan con sus handlers?\n",
        "\n",
        "15. ¿Cómo se arma el layout final dentro del Container con fondo degradado y qué orden siguen los controles en la Column?"
      ],
      "metadata": {
        "id": "n1K10YmBnCMN"
      }
    }
  ]
}